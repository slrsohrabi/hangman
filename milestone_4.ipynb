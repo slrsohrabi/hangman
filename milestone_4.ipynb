{
 "cells": [
  {
   "cell_type": "code",
   "execution_count": 2,
   "metadata": {},
   "outputs": [
    {
     "name": "stdout",
     "output_type": "stream",
     "text": [
      "orange\n",
      "['______']\n",
      "Sorry, i is not in the word. Try again.\n",
      "you have 4 left...\n",
      "Good guess!,o is in the word\n",
      "['o']\n",
      "You already tried that letter!\n",
      "Good guess!,g is in the word\n"
     ]
    },
    {
     "ename": "IndexError",
     "evalue": "string index out of range",
     "output_type": "error",
     "traceback": [
      "\u001b[0;31m---------------------------------------------------------------------------\u001b[0m",
      "\u001b[0;31mIndexError\u001b[0m                                Traceback (most recent call last)",
      "Cell \u001b[0;32mIn [2], line 83\u001b[0m\n\u001b[1;32m     76\u001b[0m                 \u001b[38;5;66;03m#self.num_lives = self.num_lives - 1 \u001b[39;00m\n\u001b[1;32m     82\u001b[0m game \u001b[38;5;241m=\u001b[39m Hangman(word_list)\n\u001b[0;32m---> 83\u001b[0m game\u001b[38;5;241m.\u001b[39mask_for_input()\n",
      "Cell \u001b[0;32mIn [2], line 74\u001b[0m, in \u001b[0;36mHangman.ask_for_input\u001b[0;34m(self)\u001b[0m\n\u001b[1;32m     72\u001b[0m     \u001b[38;5;28mprint\u001b[39m(\u001b[38;5;124m\"\u001b[39m\u001b[38;5;124mYou already tried that letter!\u001b[39m\u001b[38;5;124m\"\u001b[39m)\n\u001b[1;32m     73\u001b[0m \u001b[38;5;28;01melse\u001b[39;00m : \n\u001b[0;32m---> 74\u001b[0m     \u001b[38;5;28;43mself\u001b[39;49m\u001b[38;5;241;43m.\u001b[39;49m\u001b[43mcheck_guess\u001b[49m\u001b[43m(\u001b[49m\u001b[38;5;28;43mself\u001b[39;49m\u001b[38;5;241;43m.\u001b[39;49m\u001b[43mguess\u001b[49m\u001b[43m)\u001b[49m\n\u001b[1;32m     75\u001b[0m     \u001b[38;5;28mself\u001b[39m\u001b[38;5;241m.\u001b[39mlist_of_guesses\u001b[38;5;241m.\u001b[39mappend(\u001b[38;5;28mself\u001b[39m\u001b[38;5;241m.\u001b[39mguess)\n",
      "Cell \u001b[0;32mIn [2], line 43\u001b[0m, in \u001b[0;36mHangman.check_guess\u001b[0;34m(self, guess)\u001b[0m\n\u001b[1;32m     38\u001b[0m \u001b[38;5;28;01mfor\u001b[39;00m i \u001b[38;5;129;01min\u001b[39;00m \u001b[38;5;28mrange\u001b[39m(\u001b[38;5;241m0\u001b[39m,\u001b[38;5;28mlen\u001b[39m(\u001b[38;5;28mself\u001b[39m\u001b[38;5;241m.\u001b[39mword)):\n\u001b[1;32m     41\u001b[0m     \u001b[38;5;28;01mif\u001b[39;00m guess \u001b[38;5;241m==\u001b[39m \u001b[38;5;28mself\u001b[39m\u001b[38;5;241m.\u001b[39mword[i]:\n\u001b[0;32m---> 43\u001b[0m         \u001b[38;5;28mself\u001b[39m\u001b[38;5;241m.\u001b[39mword_guessed[i] \u001b[38;5;241m=\u001b[39m \u001b[43mguess\u001b[49m\u001b[43m[\u001b[49m\u001b[43mi\u001b[49m\u001b[43m]\u001b[49m     \u001b[38;5;66;03m#problem here!!! apparantly it does not store the value\u001b[39;00m\n\u001b[1;32m     45\u001b[0m         \u001b[38;5;28mprint\u001b[39m(\u001b[38;5;124mf\u001b[39m\u001b[38;5;124m\"\u001b[39m\u001b[38;5;132;01m{\u001b[39;00m\u001b[38;5;28mself\u001b[39m\u001b[38;5;241m.\u001b[39mword_guessed\u001b[38;5;132;01m}\u001b[39;00m\u001b[38;5;124m\"\u001b[39m)\n\u001b[1;32m     47\u001b[0m         i \u001b[38;5;241m+\u001b[39m\u001b[38;5;241m=\u001b[39m \u001b[38;5;241m1\u001b[39m\n",
      "\u001b[0;31mIndexError\u001b[0m: string index out of range"
     ]
    }
   ],
   "source": [
    "# import the random module \n",
    "import random   \n",
    "            \n",
    "# create word and alphabet lists\n",
    "word_list = ['orange', 'lemons', 'mangoes', 'pineapple', 'strawberries']\n",
    "alphabet = ['a', 'b', 'c', 'd', 'e', 'f', 'g', 'h', 'i', 'j', 'k', 'l', 'm',\n",
    "             'n', 'o', 'p', 'q', 'r', 's', 't', 'u', 'v', 'w', 'x', 'y', 'z']\n",
    "\n",
    "\n",
    "class Hangman():\n",
    "\n",
    "    def __init__(self, word_list, num_lives = 5):      # Picked randomly from the word_list.\n",
    "        self.num_lives = num_lives                      # The number of lives the player has at the start of the game.\n",
    "        self.word = random.choice(word_list) \n",
    "        self.num_letters = len(self.word)               #The number of UNIQUE letters in the word that have not been guessed yet.\n",
    "        self.word_guessed = [self.num_letters*(\"_\")]      # (help!!!) gets me following error: \"File \"<stdin>\", line 1, in <module> \n",
    "      \n",
    "                                                          #                                  NameError: name 'self' is not defined\"\n",
    "        self.list_of_guesses = []\n",
    "        print(f\"{self.word}\")\n",
    "        print(f\"{self.word_guessed}\")\n",
    "        \n",
    "\n",
    "\n",
    "    \"\"\"(help) word_guessed: list - A list of the letters of the word, with '' for each letter not yet guessed. \n",
    "        For example, if the word is 'apple', the word_guessed list would be ['', '', '', '', '']. \n",
    "        If the player guesses 'a', the list would be ['a', '', '', '', '']    \"\"\"\n",
    "\n",
    "    def check_guess(self, guess):\n",
    "\n",
    "            # gets the letter\n",
    "            self.guess = guess.lower()\n",
    "           \n",
    "            if guess in self.word:\n",
    "\n",
    "                print(f\"Good guess!,{guess} is in the word\")\n",
    "\n",
    "                for i in range(0,len(self.word)):\n",
    "\n",
    "                    \n",
    "                    if guess == self.word[i]:\n",
    "\n",
    "                        self.word_guessed[i] = guess[i]     #problem here!!! apparantly it does not store the value\n",
    "                    \n",
    "                        print(f\"{self.word_guessed}\")\n",
    "                        \n",
    "                        i += 1\n",
    "\n",
    "                self.num_letters += -1        \n",
    "\n",
    "\n",
    "\n",
    "\n",
    "            else:\n",
    "                self.num_lives += -1\n",
    "                print(f\"Sorry, {guess} is not in the word. Try again.\")\n",
    "                print(f\"you have {self.num_lives} left...\")\n",
    "\n",
    "            \n",
    "            \n",
    "\n",
    "    def ask_for_input(self):\n",
    "\n",
    "        while (self.num_lives > 0 ):\n",
    "\n",
    "            self.guess = input(\"Please enter a letter:\")\n",
    "            \n",
    "            if len(self.guess) != 1 or self.guess.lower() not in alphabet :\n",
    "                print(\"Invalid letter. Please, enter a single alphabetical character.\")\n",
    "    \n",
    "            elif self.guess in self.list_of_guesses:\n",
    "                print(\"You already tried that letter!\")\n",
    "            else : \n",
    "                self.check_guess(self.guess)\n",
    "                self.list_of_guesses.append(self.guess)\n",
    "                #self.num_lives = self.num_lives - 1 \n",
    "\n",
    "    \n",
    "                \n",
    "\n",
    "\n",
    "game = Hangman(word_list)\n",
    "game.ask_for_input()\n",
    "\n",
    "\n",
    "\n"
   ]
  },
  {
   "cell_type": "code",
   "execution_count": null,
   "metadata": {},
   "outputs": [],
   "source": []
  }
 ],
 "metadata": {
  "kernelspec": {
   "display_name": "Python 3.10.7 64-bit",
   "language": "python",
   "name": "python3"
  },
  "language_info": {
   "codemirror_mode": {
    "name": "ipython",
    "version": 3
   },
   "file_extension": ".py",
   "mimetype": "text/x-python",
   "name": "python",
   "nbconvert_exporter": "python",
   "pygments_lexer": "ipython3",
   "version": "3.10.7"
  },
  "orig_nbformat": 4,
  "vscode": {
   "interpreter": {
    "hash": "aee8b7b246df8f9039afb4144a1f6fd8d2ca17a180786b69acc140d282b71a49"
   }
  }
 },
 "nbformat": 4,
 "nbformat_minor": 2
}
