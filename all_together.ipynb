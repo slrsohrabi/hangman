{
 "cells": [
  {
   "cell_type": "markdown",
   "metadata": {},
   "source": [
    "## Milestone 1 & 2\n",
    "#### In this section we import the random module and store the check the gussed letter from the player "
   ]
  },
  {
   "cell_type": "code",
   "execution_count": 4,
   "metadata": {},
   "outputs": [
    {
     "name": "stdout",
     "output_type": "stream",
     "text": [
      "pineapple\n",
      "Good guess!\n"
     ]
    }
   ],
   "source": [
    "\n",
    "# import the random module \n",
    "import random                   \n",
    "\n",
    "# create word and alphabet lists\n",
    "word_list = ['orange', 'lemons', 'mangoes', 'pineapple', 'strawberries']\n",
    "alphabet = ['a', 'b', 'c', 'd', 'e', 'f', 'g', 'h', 'i', 'j', 'k', 'l', 'm',\n",
    "             'n', 'o', 'p', 'q', 'r', 's', 't', 'u', 'v', 'w', 'x', 'y', 'z']\n",
    "\n",
    "# assigning a random word from list to a variable\n",
    "word = random.choice(word_list)\n",
    "\n",
    "print(word)\n",
    "\n",
    "\n",
    "guess = input(\"Please enter a letter: \")\n",
    "\n",
    "\n",
    "while(1):\n",
    "\n",
    "    if len(guess) == 1 and guess.lower() in alphabet:\n",
    "    \n",
    "    print (\"Good guess!\")\n",
    "\n",
    "    else:\n",
    "    \n",
    "    print(\"Oops! That is not a valid input.\")\n",
    "    \n",
    "    break\n"
   ]
  },
  {
   "cell_type": "code",
   "execution_count": 8,
   "metadata": {},
   "outputs": [
    {
     "name": "stdout",
     "output_type": "stream",
     "text": [
      "Good guess!,i is in the word\n"
     ]
    }
   ],
   "source": [
    "if guess in word:\n",
    "    print(f\"Good guess!,{guess} is in the word\")\n",
    "\n",
    "else:\n",
    "    print(f\"Sorry, {guess} is not in the word. Try again.\")\n"
   ]
  },
  {
   "cell_type": "code",
   "execution_count": 52,
   "metadata": {},
   "outputs": [
    {
     "name": "stdout",
     "output_type": "stream",
     "text": [
      "orange\n",
      "Good guess!\n",
      "Sorry, f is not in the word. Try again.\n"
     ]
    }
   ],
   "source": [
    "\n",
    "# import the random module \n",
    "import random                   \n",
    "\n",
    "# create word and alphabet lists\n",
    "word_list = ['orange', 'lemons', 'mangoes', 'pineapple', 'strawberries']\n",
    "alphabet = ['a', 'b', 'c', 'd', 'e', 'f', 'g', 'h', 'i', 'j', 'k', 'l', 'm',\n",
    "             'n', 'o', 'p', 'q', 'r', 's', 't', 'u', 'v', 'w', 'x', 'y', 'z']\n",
    "\n",
    "# assigning a random word from list to a variable and printing it\n",
    "word = random.choice(word_list)\n",
    "\n",
    "print(word)\n",
    "\n",
    "# gets the letter\n",
    "guess = input(\"Please enter a letter: \")\n",
    "\n",
    "# function to check if letter is in the word\n",
    "def check_guess (guess):\n",
    "\n",
    "    guess = guess.lower()\n",
    "    if guess in word:\n",
    "        print(f\"Good guess!,{guess} is in the word\")\n",
    "\n",
    "    else:\n",
    "        print(f\"Sorry, {guess} is not in the word. Try again.\")\n",
    "\n",
    "\n",
    "\n",
    "# function to get the guessed letter with the checker nested in it\n",
    "def ask_for_input():\n",
    "\n",
    "    while(1):\n",
    "\n",
    "        if len(guess) == 1 and guess.lower() in alphabet:\n",
    "    \n",
    "            print (\"Good guess!\")\n",
    "\n",
    "        else:\n",
    "\n",
    "            print(\"Oops! That is not a valid input.\")\n",
    "        \n",
    "        break\n",
    "\n",
    "    check_guess(guess)\n",
    "\n",
    "ask_for_input()"
   ]
  },
  {
   "cell_type": "code",
   "execution_count": 48,
   "metadata": {},
   "outputs": [
    {
     "name": "stdout",
     "output_type": "stream",
     "text": [
      "Good guess!\n",
      "Sorry, f is not in the word. Try again.\n",
      "ok\n"
     ]
    }
   ],
   "source": [
    "\n",
    "# import the random module \n",
    "import random                   \n",
    "\n",
    "# create word and alphabet lists\n",
    "word_list = ['orange', 'lemons', 'mangoes', 'pineapple', 'strawberries']\n",
    "alphabet = ['a', 'b', 'c', 'd', 'e', 'f', 'g', 'h', 'i', 'j', 'k', 'l', 'm',\n",
    "             'n', 'o', 'p', 'q', 'r', 's', 't', 'u', 'v', 'w', 'x', 'y', 'z']\n",
    "\n",
    "class Hangman():\n",
    "\n",
    "    def __innit__(self, word_list, num_lives = 5):      # Picked randomly from the word_list.\n",
    "        self.num_lives = num_lives                      # The number of lives the player has at the start of the game.\n",
    "        self.word = random.choice(word_list) \n",
    "        self.num_letters = len(self.word)               #The number of UNIQUE letters in the word that have not been guessed yet.\n",
    "        self.word_guessed = [self.num_letters*(\"_\")]      # (help!!!) gets me following error: \"File \"<stdin>\", line 1, in <module> \n",
    "      \n",
    "                                                          #                                  NameError: name 'self' is not defined\"\n",
    "        self.list_of_guesses = []\n",
    "\n",
    "\n",
    "    \"\"\"(help) word_guessed: list - A list of the letters of the word, with '' for each letter not yet guessed. \n",
    "        For example, if the word is 'apple', the word_guessed list would be ['', '', '', '', '']. \n",
    "        If the player guesses 'a', the list would be ['a', '', '', '', '']    \"\"\"\n",
    "\n",
    "    def check_guess(self, guess):\n",
    "\n",
    "            self.guess.lower()\n",
    "            if self.guess in self.word:\n",
    "                print(f\"Good guess!,{self.guess} is in the word\")\n",
    "\n",
    "            else:\n",
    "                print(f\"Sorry, {self.guess} is not in the word. Try again.\")\n",
    "\n",
    "    def ask_for_input(self):\n",
    "        \n",
    "       while(1):\n",
    "        \n",
    "        guess = input(\"Please enter a letter: \")\n",
    "        if len(guess) != 1 and guess.lower() in alphabet :\n",
    "    \n",
    "            print (\"Invalid letter. Please, enter a single alphabetical character.\")\n",
    "\n",
    "        elif guess in self.word_guessed() :\n",
    "    \n",
    "            print(\"You already tried that letter!\")\n",
    "            \n",
    "        else :\n",
    "            check_guess(guess)\n",
    "            list_of_guesses.append(guess)\n",
    "\n",
    "        break\n",
    "\n",
    "ask_for_input()\n",
    "print (\"ok\")\n",
    "\n",
    "#print(list_of_guesses)\n"
   ]
  },
  {
   "cell_type": "code",
   "execution_count": 70,
   "metadata": {},
   "outputs": [
    {
     "name": "stdout",
     "output_type": "stream",
     "text": [
      "pineapple\n",
      "Sorry, d is not in the word. Try again.\n"
     ]
    }
   ],
   "source": [
    "# import the random module \n",
    "import random\n",
    "from re import A    \n",
    "            \n",
    "# create word and alphabet lists\n",
    "word_list = ['orange', 'lemons', 'mangoes', 'pineapple', 'strawberries']\n",
    "alphabet = ['a', 'b', 'c', 'd', 'e', 'f', 'g', 'h', 'i', 'j', 'k', 'l', 'm',\n",
    "             'n', 'o', 'p', 'q', 'r', 's', 't', 'u', 'v', 'w', 'x', 'y', 'z']\n",
    "\n",
    "\n",
    "class Hangman():\n",
    "\n",
    "    def __init__(self, word_list, num_lives = 5):      # Picked randomly from the word_list.\n",
    "        self.num_lives = num_lives                      # The number of lives the player has at the start of the game.\n",
    "        self.word = random.choice(word_list) \n",
    "        self.num_letters = len(self.word)               #The number of UNIQUE letters in the word that have not been guessed yet.\n",
    "        self.word_guessed = [self.num_letters*(\"_\")]      # (help!!!) gets me following error: \"File \"<stdin>\", line 1, in <module> \n",
    "      \n",
    "                                                          #                                  NameError: name 'self' is not defined\"\n",
    "        self.list_of_guesses = []\n",
    "\n",
    "\n",
    "    \"\"\"(help) word_guessed: list - A list of the letters of the word, with '' for each letter not yet guessed. \n",
    "        For example, if the word is 'apple', the word_guessed list would be ['', '', '', '', '']. \n",
    "        If the player guesses 'a', the list would be ['a', '', '', '', '']    \"\"\"\n",
    "\n",
    "    def check_guess(self, guess):\n",
    "\n",
    "            # gets the letter\n",
    "            guess = guess.lower()\n",
    "            print(self.word)\n",
    "            if guess in self.word:\n",
    "                print(f\"Good guess!,{guess} is in the word\")\n",
    "\n",
    "            else:\n",
    "                print(f\"Sorry, {guess} is not in the word. Try again.\")\n",
    "\n",
    "        \n",
    "\n",
    "\n",
    "\n",
    "\n",
    "guess = input(\"Please enter a letter:\")\n",
    "game = Hangman(word_list)\n",
    "game.check_guess(guess)\n",
    "\n",
    "\n",
    "\n",
    "\n"
   ]
  },
  {
   "cell_type": "code",
   "execution_count": null,
   "metadata": {},
   "outputs": [],
   "source": []
  },
  {
   "cell_type": "code",
   "execution_count": null,
   "metadata": {},
   "outputs": [],
   "source": []
  }
 ],
 "metadata": {
  "kernelspec": {
   "display_name": "Python 3.9.6 64-bit",
   "language": "python",
   "name": "python3"
  },
  "language_info": {
   "codemirror_mode": {
    "name": "ipython",
    "version": 3
   },
   "file_extension": ".py",
   "mimetype": "text/x-python",
   "name": "python",
   "nbconvert_exporter": "python",
   "pygments_lexer": "ipython3",
   "version": "3.9.6"
  },
  "orig_nbformat": 4,
  "vscode": {
   "interpreter": {
    "hash": "31f2aee4e71d21fbe5cf8b01ff0e069b9275f58929596ceb00d14d90e3e16cd6"
   }
  }
 },
 "nbformat": 4,
 "nbformat_minor": 2
}
